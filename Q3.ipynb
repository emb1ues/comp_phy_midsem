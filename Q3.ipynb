{
 "cells": [
  {
   "cell_type": "code",
   "execution_count": 1,
   "metadata": {},
   "outputs": [
    {
     "name": "stdout",
     "output_type": "stream",
     "text": [
      "[[  1. 106.  10.]\n",
      " [ 15.  80.   9.]\n",
      " [ 30.  98.  10.]\n",
      " [ 45.  75.   9.]\n",
      " [ 60.  74.   8.]\n",
      " [ 75.  73.   8.]\n",
      " [ 90.  49.   7.]\n",
      " [105.  38.   6.]\n",
      " [120.  37.   6.]\n",
      " [135.  22.   5.]]\n"
     ]
    }
   ],
   "source": [
    "import numpy as np\n",
    "\n",
    "f = open('msfit.txt', 'r')\n",
    "A = np.genfromtxt(f, delimiter='')\n",
    "f.close()\n",
    "print(A)"
   ]
  },
  {
   "cell_type": "code",
   "execution_count": 2,
   "metadata": {},
   "outputs": [
    {
     "data": {
      "text/plain": [
       "array([[  1., 106.,  10.],\n",
       "       [ 15.,  80.,   9.],\n",
       "       [ 30.,  98.,  10.],\n",
       "       [ 45.,  75.,   9.],\n",
       "       [ 60.,  74.,   8.],\n",
       "       [ 75.,  73.,   8.],\n",
       "       [ 90.,  49.,   7.],\n",
       "       [105.,  38.,   6.],\n",
       "       [120.,  37.,   6.],\n",
       "       [135.,  22.,   5.]])"
      ]
     },
     "execution_count": 2,
     "metadata": {},
     "output_type": "execute_result"
    }
   ],
   "source": [
    "A"
   ]
  },
  {
   "cell_type": "code",
   "execution_count": 3,
   "metadata": {},
   "outputs": [],
   "source": [
    "t = A[:,0]\n",
    "a = A[:,1]\n",
    "e = A[:,2]"
   ]
  },
  {
   "cell_type": "code",
   "execution_count": 4,
   "metadata": {},
   "outputs": [
    {
     "name": "stdout",
     "output_type": "stream",
     "text": [
      "[  1.  15.  30.  45.  60.  75.  90. 105. 120. 135.] [106.  80.  98.  75.  74.  73.  49.  38.  37.  22.] [10.  9. 10.  9.  8.  8.  7.  6.  6.  5.]\n"
     ]
    }
   ],
   "source": [
    "print(t,a,e)"
   ]
  },
  {
   "cell_type": "code",
   "execution_count": 5,
   "metadata": {},
   "outputs": [
    {
     "name": "stdout",
     "output_type": "stream",
     "text": [
      "106.0 0\n",
      "80.0 1\n",
      "98.0 2\n",
      "75.0 3\n",
      "74.0 4\n",
      "73.0 5\n",
      "49.0 6\n",
      "38.0 7\n",
      "37.0 8\n",
      "22.0 9\n"
     ]
    },
    {
     "data": {
      "text/plain": [
       "array([4.66343909, 4.38202663, 4.58496748, 4.31748811, 4.30406509,\n",
       "       4.29045944, 3.8918203 , 3.63758616, 3.61091791, 3.09104245])"
      ]
     },
     "execution_count": 5,
     "metadata": {},
     "output_type": "execute_result"
    }
   ],
   "source": [
    "for i,value in enumerate(a):\n",
    "    print(value, i)\n",
    "    a[i] = np.log(value)\n",
    "a"
   ]
  },
  {
   "cell_type": "code",
   "execution_count": 6,
   "metadata": {},
   "outputs": [
    {
     "data": {
      "text/plain": [
       "array([3.16227766, 3.        , 3.16227766, 3.        , 2.82842712,\n",
       "       2.82842712, 2.64575131, 2.44948974, 2.44948974, 2.23606798])"
      ]
     },
     "execution_count": 6,
     "metadata": {},
     "output_type": "execute_result"
    }
   ],
   "source": [
    "for i,value in enumerate(e):\n",
    "    e[i] = np.sqrt(value)\n",
    "e"
   ]
  },
  {
   "cell_type": "code",
   "execution_count": 7,
   "metadata": {},
   "outputs": [
    {
     "data": {
      "text/plain": [
       "(array([  1.,  15.,  30.,  45.,  60.,  75.,  90., 105., 120., 135.]),\n",
       " array([4.66343909, 4.38202663, 4.58496748, 4.31748811, 4.30406509,\n",
       "        4.29045944, 3.8918203 , 3.63758616, 3.61091791, 3.09104245]))"
      ]
     },
     "execution_count": 7,
     "metadata": {},
     "output_type": "execute_result"
    }
   ],
   "source": [
    "x = t\n",
    "y = a\n",
    "x,y"
   ]
  },
  {
   "cell_type": "code",
   "execution_count": 8,
   "metadata": {},
   "outputs": [],
   "source": [
    "for i in range(len(x)):\n",
    "    s = 1/(e[i]**2)\n",
    "    sx = x[i]/(e[i]**2)\n",
    "    sy = y[i]/(e[i]**2)\n",
    "    sxx = (x[i]**2)/(e[i]**2)\n",
    "    sxy = (x[i]*y[i])/(e[i]**2)"
   ]
  },
  {
   "cell_type": "code",
   "execution_count": 9,
   "metadata": {},
   "outputs": [
    {
     "data": {
      "text/plain": [
       "(0.19999999999999996,\n",
       " 26.999999999999996,\n",
       " 0.6182084906716631,\n",
       " 3644.9999999999995,\n",
       " 83.45814624067452)"
      ]
     },
     "execution_count": 9,
     "metadata": {},
     "output_type": "execute_result"
    }
   ],
   "source": [
    "s,sx,sy,sxx,sxy"
   ]
  },
  {
   "cell_type": "code",
   "execution_count": 10,
   "metadata": {},
   "outputs": [
    {
     "data": {
      "text/plain": [
       "0.0"
      ]
     },
     "execution_count": 10,
     "metadata": {},
     "output_type": "execute_result"
    }
   ],
   "source": [
    "d = s*sxx - sx**2\n",
    "d"
   ]
  },
  {
   "cell_type": "code",
   "execution_count": 11,
   "metadata": {},
   "outputs": [
    {
     "name": "stderr",
     "output_type": "stream",
     "text": [
      "<ipython-input-11-8403f6ace088>:1: RuntimeWarning: invalid value encountered in double_scalars\n",
      "  a = (sxx*sy - sx*sxy)/d\n",
      "<ipython-input-11-8403f6ace088>:2: RuntimeWarning: invalid value encountered in double_scalars\n",
      "  b = (s*sxy - sx*sy)/d\n"
     ]
    },
    {
     "data": {
      "text/plain": [
       "(nan, nan)"
      ]
     },
     "execution_count": 11,
     "metadata": {},
     "output_type": "execute_result"
    }
   ],
   "source": [
    "a = (sxx*sy - sx*sxy)/d\n",
    "b = (s*sxy - sx*sy)/d\n",
    "a,b"
   ]
  },
  {
   "cell_type": "code",
   "execution_count": 12,
   "metadata": {},
   "outputs": [],
   "source": [
    "from matplotlib import pyplot as plt"
   ]
  },
  {
   "cell_type": "code",
   "execution_count": 13,
   "metadata": {},
   "outputs": [
    {
     "data": {
      "image/png": "[encoded data removed]",
      "text/plain": [
       "<Figure size 432x288 with 1 Axes>"
      ]
     },
     "metadata": {
      "needs_background": "light"
     },
     "output_type": "display_data"
    }
   ],
   "source": [
    "x_ = np.linspace(1,200,100)\n",
    "pred = [a+b*value for value in x_]\n",
    "plt.scatter(x,y)\n",
    "plt.plot(x_,pred, 'r')\n",
    "plt.show()"
   ]
  },
  {
   "cell_type": "code",
   "execution_count": 15,
   "metadata": {},
   "outputs": [
    {
     "name": "stdout",
     "output_type": "stream",
     "text": [
      " Volume in drive C is OS\n",
      " Volume Serial Number is B622-B55B\n",
      "\n",
      " Directory of C:\\Users\\WS6\\Desktop\\Nishant\n",
      "\n",
      "10-03-2022  12:26    <DIR>          .\n",
      "10-03-2022  12:26    <DIR>          ..\n",
      "29-12-2021  19:50                66 .gitattributes\n",
      "10-03-2022  12:26    <DIR>          .ipynb_checkpoints\n",
      "27-12-2021  10:37         1,070,609 accuracy_vs_images_imrf.ipynb\n",
      "27-12-2021  11:45    <DIR>          DTMs\n",
      "31-12-2021  02:12     1,490,893,480 features_from_OG_8_cnnimrf.pkl\n",
      "08-03-2022  13:58    <DIR>          galileo\n",
      "27-02-2022  18:54    <DIR>          galileo_test\n",
      "27-12-2021  20:14    <DIR>          good coding\n",
      "27-02-2022  23:22    <DIR>          hologram\n",
      "22-12-2021  23:43           342,515 image_segmentation_unet.ipynb\n",
      "27-12-2021  18:26         2,909,024 img_segmentation_imrf_experiment.ipynb\n",
      "11-01-2022  19:14         5,679,798 imrf_cnnrf.ipynb\n",
      "27-12-2021  16:28    <DIR>          InverseRenderNet_v2-main\n",
      "08-02-2022  17:04    <DIR>          juno_jiram_bundle\n",
      "31-12-2021  03:38         4,406,534 LDIS.ipynb\n",
      "28-12-2021  16:00    <DIR>          linea\n",
      "08-02-2022  09:36    <DIR>          mathematica\n",
      "28-12-2021  15:59    <DIR>          mrd\n",
      "10-03-2022  10:35                85 msfit.txt\n",
      "10-03-2022  12:00               228 msmatinv.txt\n",
      "10-03-2022  12:00                95 mstrimat.txt\n",
      "11-01-2022  19:11         2,560,206 prediction.tiff\n",
      "10-03-2022  12:26            13,907 Q3.ipynb\n",
      "10-03-2022  12:11             3,874 Q4.py.py\n",
      "10-03-2022  12:16             1,115 Q4_out.txt\n",
      "10-03-2022  12:20             1,544 Q6.py\n",
      "10-03-2022  11:57               198 Q6_A.txt\n",
      "10-03-2022  11:57                42 Q6_b.txt\n",
      "10-03-2022  12:20               240 Q6_out.txt\n",
      "24-02-2022  18:18         3,637,125 random.ipynb\n",
      "04-02-2022  00:26    <DIR>          slides\n",
      "11-01-2022  19:12         2,560,206 truth.tiff\n",
      "03-03-2022  22:20             9,114 Untitled.ipynb\n",
      "10-03-2022  11:33             6,801 Untitled1.ipynb\n",
      "              22 File(s)  1,514,096,806 bytes\n",
      "              14 Dir(s)  154,903,650,304 bytes free\n"
     ]
    }
   ],
   "source": [
    "!dir\n"
   ]
  },
  {
   "cell_type": "code",
   "execution_count": null,
   "metadata": {},
   "outputs": [],
   "source": []
  }
 ],
 "metadata": {
  "kernelspec": {
   "display_name": "Python 3",
   "language": "python",
   "name": "python3"
  },
  "language_info": {
   "codemirror_mode": {
    "name": "ipython",
    "version": 3
   },
   "file_extension": ".py",
   "mimetype": "text/x-python",
   "name": "python",
   "nbconvert_exporter": "python",
   "pygments_lexer": "ipython3",
   "version": "3.8.5"
  }
 },
 "nbformat": 4,
 "nbformat_minor": 4
}
